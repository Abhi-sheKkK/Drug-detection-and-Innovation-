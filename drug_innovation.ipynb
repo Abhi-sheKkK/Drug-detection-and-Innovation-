{
 "cells": [
  {
   "cell_type": "code",
   "execution_count": 11,
   "metadata": {},
   "outputs": [],
   "source": [
    "import pandas as pd\n",
    "import torch\n",
    "from rdkit import Chem\n",
    "from tokenizers import Tokenizer\n",
    "from tokenizers.pre_tokenizers import Whitespace\n",
    "from transformers import AutoTokenizer\n",
    "from torch.nn.utils.rnn import pad_sequence as pad_sequences"
   ]
  },
  {
   "cell_type": "code",
   "execution_count": 12,
   "metadata": {},
   "outputs": [],
   "source": [
    "drug_df = pd.read_csv(r\"D:\\drug_detection_and_generation\\Drug-detection-and-Innovation-\\data\\generation_data.csv\")"
   ]
  },
  {
   "cell_type": "code",
   "execution_count": 13,
   "metadata": {},
   "outputs": [
    {
     "data": {
      "text/html": [
       "<div>\n",
       "<style scoped>\n",
       "    .dataframe tbody tr th:only-of-type {\n",
       "        vertical-align: middle;\n",
       "    }\n",
       "\n",
       "    .dataframe tbody tr th {\n",
       "        vertical-align: top;\n",
       "    }\n",
       "\n",
       "    .dataframe thead th {\n",
       "        text-align: right;\n",
       "    }\n",
       "</style>\n",
       "<table border=\"1\" class=\"dataframe\">\n",
       "  <thead>\n",
       "    <tr style=\"text-align: right;\">\n",
       "      <th></th>\n",
       "      <th>SMILES</th>\n",
       "      <th>pIC50</th>\n",
       "      <th>mol</th>\n",
       "      <th>num_atoms</th>\n",
       "      <th>logP</th>\n",
       "    </tr>\n",
       "  </thead>\n",
       "  <tbody>\n",
       "    <tr>\n",
       "      <th>0</th>\n",
       "      <td>O=S(=O)(Nc1cccc(-c2cnc3ccccc3n2)c1)c1cccs1</td>\n",
       "      <td>4.26</td>\n",
       "      <td>&lt;rdkit.Chem.rdchem.Mol object at 0x7f59df45bc30&gt;</td>\n",
       "      <td>25</td>\n",
       "      <td>4.1591</td>\n",
       "    </tr>\n",
       "    <tr>\n",
       "      <th>1</th>\n",
       "      <td>O=c1cc(-c2nc(-c3ccc(-c4cn(CCP(=O)(O)O)nn4)cc3)...</td>\n",
       "      <td>4.34</td>\n",
       "      <td>&lt;rdkit.Chem.rdchem.Mol object at 0x7f59a320c9e0&gt;</td>\n",
       "      <td>36</td>\n",
       "      <td>3.6743</td>\n",
       "    </tr>\n",
       "    <tr>\n",
       "      <th>2</th>\n",
       "      <td>NC(=O)c1ccc2c(c1)nc(C1CCC(O)CC1)n2CCCO</td>\n",
       "      <td>4.53</td>\n",
       "      <td>&lt;rdkit.Chem.rdchem.Mol object at 0x7f59a320cac0&gt;</td>\n",
       "      <td>23</td>\n",
       "      <td>1.5361</td>\n",
       "    </tr>\n",
       "    <tr>\n",
       "      <th>3</th>\n",
       "      <td>NCCCn1c(C2CCNCC2)nc2cc(C(N)=O)ccc21</td>\n",
       "      <td>4.56</td>\n",
       "      <td>&lt;rdkit.Chem.rdchem.Mol object at 0x7f59a320cba0&gt;</td>\n",
       "      <td>22</td>\n",
       "      <td>0.9510</td>\n",
       "    </tr>\n",
       "    <tr>\n",
       "      <th>4</th>\n",
       "      <td>CNC(=S)Nc1cccc(-c2cnc3ccccc3n2)c1</td>\n",
       "      <td>4.59</td>\n",
       "      <td>&lt;rdkit.Chem.rdchem.Mol object at 0x7f59a320c7b0&gt;</td>\n",
       "      <td>21</td>\n",
       "      <td>3.2130</td>\n",
       "    </tr>\n",
       "  </tbody>\n",
       "</table>\n",
       "</div>"
      ],
      "text/plain": [
       "                                              SMILES  pIC50  \\\n",
       "0         O=S(=O)(Nc1cccc(-c2cnc3ccccc3n2)c1)c1cccs1   4.26   \n",
       "1  O=c1cc(-c2nc(-c3ccc(-c4cn(CCP(=O)(O)O)nn4)cc3)...   4.34   \n",
       "2             NC(=O)c1ccc2c(c1)nc(C1CCC(O)CC1)n2CCCO   4.53   \n",
       "3                NCCCn1c(C2CCNCC2)nc2cc(C(N)=O)ccc21   4.56   \n",
       "4                  CNC(=S)Nc1cccc(-c2cnc3ccccc3n2)c1   4.59   \n",
       "\n",
       "                                                mol  num_atoms    logP  \n",
       "0  <rdkit.Chem.rdchem.Mol object at 0x7f59df45bc30>         25  4.1591  \n",
       "1  <rdkit.Chem.rdchem.Mol object at 0x7f59a320c9e0>         36  3.6743  \n",
       "2  <rdkit.Chem.rdchem.Mol object at 0x7f59a320cac0>         23  1.5361  \n",
       "3  <rdkit.Chem.rdchem.Mol object at 0x7f59a320cba0>         22  0.9510  \n",
       "4  <rdkit.Chem.rdchem.Mol object at 0x7f59a320c7b0>         21  3.2130  "
      ]
     },
     "execution_count": 13,
     "metadata": {},
     "output_type": "execute_result"
    }
   ],
   "source": [
    "drug_df.head()"
   ]
  },
  {
   "cell_type": "code",
   "execution_count": 14,
   "metadata": {},
   "outputs": [],
   "source": [
    "# Drug innovation using smiles "
   ]
  },
  {
   "cell_type": "code",
   "execution_count": null,
   "metadata": {},
   "outputs": [],
   "source": [
    "# tokenize smiles \n",
    "tokenizer = AutoTokenizer.from_pretrained(\"seyonec/ChemBERTa-zinc-base-v1\")\n",
    "tokenizer.pre_tokenizer = Whitespace()\n",
    "drug_df[\"tokenized_SMILES\"] = drug_df[\"SMILES\"].apply(lambda x: tokenizer.encode(x))"
   ]
  },
  {
   "cell_type": "code",
   "execution_count": null,
   "metadata": {},
   "outputs": [],
   "source": []
  },
  {
   "cell_type": "code",
   "execution_count": null,
   "metadata": {},
   "outputs": [],
   "source": []
  },
  {
   "cell_type": "code",
   "execution_count": null,
   "metadata": {},
   "outputs": [],
   "source": []
  }
 ],
 "metadata": {
  "kernelspec": {
   "display_name": "chem_env",
   "language": "python",
   "name": "python3"
  },
  "language_info": {
   "codemirror_mode": {
    "name": "ipython",
    "version": 3
   },
   "file_extension": ".py",
   "mimetype": "text/x-python",
   "name": "python",
   "nbconvert_exporter": "python",
   "pygments_lexer": "ipython3",
   "version": "3.12.6"
  }
 },
 "nbformat": 4,
 "nbformat_minor": 2
}
